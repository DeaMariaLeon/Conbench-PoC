{
 "cells": [
  {
   "cell_type": "code",
   "execution_count": 8,
   "metadata": {},
   "outputs": [],
   "source": [
    "import json\n",
    "import pandas"
   ]
  },
  {
   "cell_type": "code",
   "execution_count": 16,
   "metadata": {},
   "outputs": [],
   "source": [
    "with open(\"benchmarks.json\") as f:\n",
    "     benchmarks_results = json.load(f)"
   ]
  },
  {
   "cell_type": "code",
   "execution_count": 17,
   "metadata": {},
   "outputs": [
    {
     "data": {
      "text/plain": [
       "{'commit_hash': 'cb63287e63db10ce3eb0f3b8c279fd995678d0ae',\n",
       " 'env_name': 'conda-py3.11',\n",
       " 'date': 1696315841000,\n",
       " 'params': {'machine': 'Deas-MacBook-Air.local', 'python': '3.11'},\n",
       " 'python': '3.11',\n",
       " 'requirements': {},\n",
       " 'env_vars': {},\n",
       " 'result_columns': ['result',\n",
       "  'params',\n",
       "  'version',\n",
       "  'started_at',\n",
       "  'duration',\n",
       "  'stats_ci_99_a',\n",
       "  'stats_ci_99_b',\n",
       "  'stats_q_25',\n",
       "  'stats_q_75',\n",
       "  'stats_number',\n",
       "  'stats_repeat',\n",
       "  'samples',\n",
       "  'profile'],\n",
       " 'results': {'benchmarks.TimeSuite.time_insertion_sort': [[4.71819915490904e-07],\n",
       "   [],\n",
       "   '1198fba41755fd157a0c7f7bc588ee00d3c4b577d482adc3cf034d8476f03f50',\n",
       "   1698586202577,\n",
       "   0.40578,\n",
       "   [4.7041e-07],\n",
       "   [5.4157e-07],\n",
       "   [4.7082e-07],\n",
       "   [5.0656e-07],\n",
       "   [22992],\n",
       "   [10]]},\n",
       " 'durations': {},\n",
       " 'version': 2}"
      ]
     },
     "execution_count": 17,
     "metadata": {},
     "output_type": "execute_result"
    }
   ],
   "source": [
    "benchmarks_results"
   ]
  },
  {
   "cell_type": "code",
   "execution_count": 15,
   "metadata": {},
   "outputs": [
    {
     "data": {
      "text/plain": [
       "['result',\n",
       " 'params',\n",
       " 'version',\n",
       " 'started_at',\n",
       " 'duration',\n",
       " 'stats_ci_99_a',\n",
       " 'stats_ci_99_b',\n",
       " 'stats_q_25',\n",
       " 'stats_q_75',\n",
       " 'stats_number',\n",
       " 'stats_repeat',\n",
       " 'samples',\n",
       " 'profile']"
      ]
     },
     "execution_count": 15,
     "metadata": {},
     "output_type": "execute_result"
    }
   ],
   "source": [
    "benchmarks_results[\"result_columns\"]"
   ]
  }
 ],
 "metadata": {
  "kernelspec": {
   "display_name": "conbench",
   "language": "python",
   "name": "python3"
  },
  "language_info": {
   "codemirror_mode": {
    "name": "ipython",
    "version": 3
   },
   "file_extension": ".py",
   "mimetype": "text/x-python",
   "name": "python",
   "nbconvert_exporter": "python",
   "pygments_lexer": "ipython3",
   "version": "3.12.0"
  }
 },
 "nbformat": 4,
 "nbformat_minor": 2
}
